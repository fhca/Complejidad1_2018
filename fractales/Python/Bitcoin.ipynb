{
 "cells": [
  {
   "cell_type": "markdown",
   "metadata": {},
   "source": [
    "# Análisis de Bitcoin en México"
   ]
  },
  {
   "cell_type": "code",
   "execution_count": 43,
   "metadata": {
    "collapsed": false
   },
   "outputs": [
    {
     "name": "stdout",
     "output_type": "stream",
     "text": [
      "                 Ask       Bid      Last  Volume (BTC)  Volume (% of Total)\n",
      "Date                                                                       \n",
      "2016-10-08  12173.44  12173.44  12173.44          5.47                20.64\n",
      "2016-10-09  12563.70  12563.70  12563.70          3.20                11.92\n",
      "2016-10-10  11965.51  11965.51  11965.51         16.80                12.19\n",
      "2016-10-11  12355.20  12355.20  12355.20         29.31                20.01\n",
      "2016-10-12  12752.10  12752.10  12752.10         11.72                10.44\n"
     ]
    }
   ],
   "source": [
    "import pandas as pd\n",
    "import quandl\n",
    "df = quandl.get('BAVERAGE/LOCALBITCOINSMXN')\n",
    "print(df.tail())"
   ]
  },
  {
   "cell_type": "code",
   "execution_count": 23,
   "metadata": {
    "collapsed": true
   },
   "outputs": [],
   "source": [
    "import matplotlib.pyplot as plt\n",
    "import numpy as np\n",
    "%matplotlib inline"
   ]
  },
  {
   "cell_type": "code",
   "execution_count": 11,
   "metadata": {
    "collapsed": false
   },
   "outputs": [
    {
     "data": {
      "text/plain": [
       "[<matplotlib.lines.Line2D at 0x10c5ba240>]"
      ]
     },
     "execution_count": 11,
     "metadata": {},
     "output_type": "execute_result"
    },
    {
     "data": {
      "image/png": "[encoded data removed]",
      "text/plain": [
       "<matplotlib.figure.Figure at 0x10c4b7a90>"
      ]
     },
     "metadata": {},
     "output_type": "display_data"
    }
   ],
   "source": [
    "plt.plot(df['Ask'])"
   ]
  },
  {
   "cell_type": "code",
   "execution_count": 27,
   "metadata": {
    "collapsed": false
   },
   "outputs": [
    {
     "data": {
      "text/plain": [
       "[<matplotlib.lines.Line2D at 0x10c866a20>]"
      ]
     },
     "execution_count": 27,
     "metadata": {},
     "output_type": "execute_result"
    },
    {
     "data": {
      "image/png": "[encoded data removed]",
      "text/plain": [
       "<matplotlib.figure.Figure at 0x10c5f2c88>"
      ]
     },
     "metadata": {},
     "output_type": "display_data"
    }
   ],
   "source": [
    "plt.plot([np.average(df['2014-09-22':'2014-12-21']['Ask']),\n",
    "np.average(df['2015-09-22':'2015-12-21']['Ask']),\n",
    "np.average(df['2016-09-22':'2016-12-21']['Ask'])])"
   ]
  },
  {
   "cell_type": "code",
   "execution_count": 30,
   "metadata": {
    "collapsed": false
   },
   "outputs": [
    {
     "data": {
      "text/html": [
       "<div>\n",
       "<table border=\"1\" class=\"dataframe\">\n",
       "  <thead>\n",
       "    <tr style=\"text-align: right;\">\n",
       "      <th></th>\n",
       "      <th>Ask</th>\n",
       "      <th>Bid</th>\n",
       "      <th>Last</th>\n",
       "      <th>Volume (BTC)</th>\n",
       "      <th>Volume (% of Total)</th>\n",
       "    </tr>\n",
       "    <tr>\n",
       "      <th>Date</th>\n",
       "      <th></th>\n",
       "      <th></th>\n",
       "      <th></th>\n",
       "      <th></th>\n",
       "      <th></th>\n",
       "    </tr>\n",
       "  </thead>\n",
       "  <tbody>\n",
       "    <tr>\n",
       "      <th>2014-04-26</th>\n",
       "      <td>6641.95</td>\n",
       "      <td>6641.95</td>\n",
       "      <td>6641.95</td>\n",
       "      <td>5.46</td>\n",
       "      <td>32.25</td>\n",
       "    </tr>\n",
       "    <tr>\n",
       "      <th>2014-04-27</th>\n",
       "      <td>6364.36</td>\n",
       "      <td>6364.36</td>\n",
       "      <td>6364.36</td>\n",
       "      <td>4.19</td>\n",
       "      <td>47.13</td>\n",
       "    </tr>\n",
       "    <tr>\n",
       "      <th>2014-04-28</th>\n",
       "      <td>5893.56</td>\n",
       "      <td>5893.56</td>\n",
       "      <td>5893.56</td>\n",
       "      <td>15.48</td>\n",
       "      <td>75.62</td>\n",
       "    </tr>\n",
       "    <tr>\n",
       "      <th>2014-04-30</th>\n",
       "      <td>6249.28</td>\n",
       "      <td>6249.28</td>\n",
       "      <td>6249.28</td>\n",
       "      <td>14.01</td>\n",
       "      <td>71.33</td>\n",
       "    </tr>\n",
       "    <tr>\n",
       "      <th>2014-05-01</th>\n",
       "      <td>6291.63</td>\n",
       "      <td>6291.63</td>\n",
       "      <td>6291.63</td>\n",
       "      <td>21.01</td>\n",
       "      <td>77.44</td>\n",
       "    </tr>\n",
       "    <tr>\n",
       "      <th>2014-05-02</th>\n",
       "      <td>6073.53</td>\n",
       "      <td>6073.53</td>\n",
       "      <td>6073.53</td>\n",
       "      <td>13.56</td>\n",
       "      <td>76.78</td>\n",
       "    </tr>\n",
       "    <tr>\n",
       "      <th>2014-05-05</th>\n",
       "      <td>5987.68</td>\n",
       "      <td>5987.68</td>\n",
       "      <td>5987.68</td>\n",
       "      <td>3.00</td>\n",
       "      <td>42.02</td>\n",
       "    </tr>\n",
       "    <tr>\n",
       "      <th>2014-05-06</th>\n",
       "      <td>5691.29</td>\n",
       "      <td>5691.29</td>\n",
       "      <td>5691.29</td>\n",
       "      <td>13.03</td>\n",
       "      <td>56.19</td>\n",
       "    </tr>\n",
       "    <tr>\n",
       "      <th>2014-05-07</th>\n",
       "      <td>5870.08</td>\n",
       "      <td>5870.08</td>\n",
       "      <td>5870.08</td>\n",
       "      <td>10.47</td>\n",
       "      <td>52.67</td>\n",
       "    </tr>\n",
       "    <tr>\n",
       "      <th>2014-05-08</th>\n",
       "      <td>6092.38</td>\n",
       "      <td>6092.38</td>\n",
       "      <td>6092.38</td>\n",
       "      <td>5.38</td>\n",
       "      <td>38.37</td>\n",
       "    </tr>\n",
       "    <tr>\n",
       "      <th>2014-05-10</th>\n",
       "      <td>6514.49</td>\n",
       "      <td>6514.49</td>\n",
       "      <td>6514.49</td>\n",
       "      <td>3.13</td>\n",
       "      <td>62.98</td>\n",
       "    </tr>\n",
       "    <tr>\n",
       "      <th>2014-05-11</th>\n",
       "      <td>5941.04</td>\n",
       "      <td>5941.04</td>\n",
       "      <td>5941.04</td>\n",
       "      <td>2.82</td>\n",
       "      <td>46.00</td>\n",
       "    </tr>\n",
       "    <tr>\n",
       "      <th>2014-05-12</th>\n",
       "      <td>5677.61</td>\n",
       "      <td>5677.61</td>\n",
       "      <td>5677.61</td>\n",
       "      <td>9.86</td>\n",
       "      <td>49.13</td>\n",
       "    </tr>\n",
       "    <tr>\n",
       "      <th>2014-05-13</th>\n",
       "      <td>5892.74</td>\n",
       "      <td>5892.74</td>\n",
       "      <td>5892.74</td>\n",
       "      <td>10.72</td>\n",
       "      <td>62.58</td>\n",
       "    </tr>\n",
       "  </tbody>\n",
       "</table>\n",
       "</div>"
      ],
      "text/plain": [
       "                Ask      Bid     Last  Volume (BTC)  Volume (% of Total)\n",
       "Date                                                                    \n",
       "2014-04-26  6641.95  6641.95  6641.95          5.46                32.25\n",
       "2014-04-27  6364.36  6364.36  6364.36          4.19                47.13\n",
       "2014-04-28  5893.56  5893.56  5893.56         15.48                75.62\n",
       "2014-04-30  6249.28  6249.28  6249.28         14.01                71.33\n",
       "2014-05-01  6291.63  6291.63  6291.63         21.01                77.44\n",
       "2014-05-02  6073.53  6073.53  6073.53         13.56                76.78\n",
       "2014-05-05  5987.68  5987.68  5987.68          3.00                42.02\n",
       "2014-05-06  5691.29  5691.29  5691.29         13.03                56.19\n",
       "2014-05-07  5870.08  5870.08  5870.08         10.47                52.67\n",
       "2014-05-08  6092.38  6092.38  6092.38          5.38                38.37\n",
       "2014-05-10  6514.49  6514.49  6514.49          3.13                62.98\n",
       "2014-05-11  5941.04  5941.04  5941.04          2.82                46.00\n",
       "2014-05-12  5677.61  5677.61  5677.61          9.86                49.13\n",
       "2014-05-13  5892.74  5892.74  5892.74         10.72                62.58"
      ]
     },
     "execution_count": 30,
     "metadata": {},
     "output_type": "execute_result"
    }
   ],
   "source": [
    "df.head(14)"
   ]
  },
  {
   "cell_type": "code",
   "execution_count": 42,
   "metadata": {
    "collapsed": false
   },
   "outputs": [
    {
     "ename": "AttributeError",
     "evalue": "'numpy.datetime64' object has no attribute 'weekday'",
     "output_type": "error",
     "traceback": [
      "\u001b[0;31m---------------------------------------------------------------------------\u001b[0m",
      "\u001b[0;31mAttributeError\u001b[0m                            Traceback (most recent call last)",
      "\u001b[0;32m<ipython-input-42-6be966ae994e>\u001b[0m in \u001b[0;36m<module>\u001b[0;34m()\u001b[0m\n\u001b[0;32m----> 1\u001b[0;31m \u001b[0mlist\u001b[0m\u001b[0;34m(\u001b[0m\u001b[0mmap\u001b[0m\u001b[0;34m(\u001b[0m\u001b[0;32mlambda\u001b[0m \u001b[0mx\u001b[0m\u001b[0;34m:\u001b[0m \u001b[0mx\u001b[0m\u001b[0;34m.\u001b[0m\u001b[0mweekday\u001b[0m\u001b[0;34m(\u001b[0m\u001b[0;34m)\u001b[0m\u001b[0;34m,\u001b[0m \u001b[0mdf\u001b[0m\u001b[0;34m.\u001b[0m\u001b[0mindex\u001b[0m\u001b[0;34m.\u001b[0m\u001b[0mvalues\u001b[0m\u001b[0;34m)\u001b[0m\u001b[0;34m)\u001b[0m\u001b[0;34m\u001b[0m\u001b[0m\n\u001b[0m",
      "\u001b[0;32m<ipython-input-42-6be966ae994e>\u001b[0m in \u001b[0;36m<lambda>\u001b[0;34m(x)\u001b[0m\n\u001b[0;32m----> 1\u001b[0;31m \u001b[0mlist\u001b[0m\u001b[0;34m(\u001b[0m\u001b[0mmap\u001b[0m\u001b[0;34m(\u001b[0m\u001b[0;32mlambda\u001b[0m \u001b[0mx\u001b[0m\u001b[0;34m:\u001b[0m \u001b[0mx\u001b[0m\u001b[0;34m.\u001b[0m\u001b[0mweekday\u001b[0m\u001b[0;34m(\u001b[0m\u001b[0;34m)\u001b[0m\u001b[0;34m,\u001b[0m \u001b[0mdf\u001b[0m\u001b[0;34m.\u001b[0m\u001b[0mindex\u001b[0m\u001b[0;34m.\u001b[0m\u001b[0mvalues\u001b[0m\u001b[0;34m)\u001b[0m\u001b[0;34m)\u001b[0m\u001b[0;34m\u001b[0m\u001b[0m\n\u001b[0m",
      "\u001b[0;31mAttributeError\u001b[0m: 'numpy.datetime64' object has no attribute 'weekday'"
     ]
    }
   ],
   "source": [
    "list(map(lambda x: , df.index.values))\n"
   ]
  },
  {
   "cell_type": "code",
   "execution_count": 48,
   "metadata": {
    "collapsed": false
   },
   "outputs": [],
   "source": [
    "sabados = np.arange('2014-04-26','2016-10-12', 7, dtype='datetime64[D]')\n",
    "domingos, lunes, martes, miércoles, jueves, viernes = sabados + 1, sabados + 2, sabados + 3, sabados + 4, sabados + 5, sabados + 6"
   ]
  },
  {
   "cell_type": "code",
   "execution_count": null,
   "metadata": {
    "collapsed": true
   },
   "outputs": [],
   "source": []
  }
 ],
 "metadata": {
  "kernelspec": {
   "display_name": "Python 3",
   "language": "python",
   "name": "python3"
  },
  "language_info": {
   "codemirror_mode": {
    "name": "ipython",
    "version": 3
   },
   "file_extension": ".py",
   "mimetype": "text/x-python",
   "name": "python",
   "nbconvert_exporter": "python",
   "pygments_lexer": "ipython3",
   "version": "3.4.2"
  }
 },
 "nbformat": 4,
 "nbformat_minor": 0
}
