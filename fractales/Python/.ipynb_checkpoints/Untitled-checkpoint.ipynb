{
 "cells": [
  {
   "cell_type": "code",
   "execution_count": 5,
   "metadata": {
    "collapsed": false
   },
   "outputs": [],
   "source": [
    "# %load sierp_caos.py\n",
    "\n",
    "from random import *\n",
    "from tkinter import *\n",
    "\n",
    "def mitad(a,b,p=1./2.):\n",
    "    \"\"\" Devuelve el punto a*p+b*(1-p). \"\"\"\n",
    "    return (a[0]*p+b[0]*(1-p),a[1]*p+b[1]*(1-p))\n",
    "\n",
    "def itera(actual,vertices):\n",
    "    azar=choice(vertices)\n",
    "    return mitad(actual,azar)\n",
    "\n",
    "def main():\n",
    "    e=[(10,500),(255,10),(500,500)]\n",
    "    e=[(10,10),(500,10),(500,500),(10,500)]\n",
    "    #e=[(10,10),(500,10),(500,500),(10,500),(250,250)]\n",
    "    #e=[(10,200),(250,10),(540,200),(380,540),(120,540)]\n",
    "    canvas = Canvas(width=550, height=550, bg='white')  \n",
    "    canvas.pack(expand=YES, fill=BOTH)                  \n",
    "    (x,y)=(0,0)\n",
    "    t=1\n",
    "    for i in range(40000):\n",
    "        (x,y)=itera((x,y),e)\n",
    "        canvas.create_polygon(x,y,x+t,y,x+t,y+t,x,y+t,fill=\"blue\")\n",
    "    mainloop()\n",
    "\n",
    "if __name__==\"__main__\":\n",
    "    main()\n"
   ]
  },
  {
   "cell_type": "code",
   "execution_count": null,
   "metadata": {
    "collapsed": true
   },
   "outputs": [],
   "source": []
  }
 ],
 "metadata": {
  "kernelspec": {
   "display_name": "Python 3",
   "language": "python",
   "name": "python3"
  },
  "language_info": {
   "codemirror_mode": {
    "name": "ipython",
    "version": 3
   },
   "file_extension": ".py",
   "mimetype": "text/x-python",
   "name": "python",
   "nbconvert_exporter": "python",
   "pygments_lexer": "ipython3",
   "version": "3.4.2"
  }
 },
 "nbformat": 4,
 "nbformat_minor": 0
}
